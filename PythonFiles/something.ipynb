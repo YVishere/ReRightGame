{
 "cells": [
  {
   "cell_type": "code",
   "execution_count": 8,
   "metadata": {},
   "outputs": [],
   "source": [
    "import pandas as pd"
   ]
  },
  {
   "cell_type": "code",
   "execution_count": 9,
   "metadata": {},
   "outputs": [],
   "source": [
    "file = 'trainingFile/test-00000-of-00001.parquet'\n",
    "file2 = 'trainingFile/test-00000-of-00001.parquet'\n",
    "file3 = 'trainingFile/validation-00000-of-00001.parquet'"
   ]
  },
  {
   "cell_type": "code",
   "execution_count": 10,
   "metadata": {},
   "outputs": [
    {
     "name": "stdout",
     "output_type": "stream",
     "text": [
      "                                              personas additional_context  \\\n",
      "0    [i hate talking to people., i believe dragons ...     Social anxiety   \n",
      "1    [i have three daughters., my wife and i like t...                      \n",
      "2        [i hate the taste of fish., i like to paint.]                      \n",
      "3    [my favorite movie is good burger., i like can...                      \n",
      "4           [my hair is black., i like rock climbing.]      Rock climbing   \n",
      "..                                                 ...                ...   \n",
      "975  [i love adventures like mountain climbing., my...        Cartography   \n",
      "976  [i enjoy summer walking and reading., i live o...                      \n",
      "977    [my hair is short and pink., i love to travel.]               Blue   \n",
      "978  [my dog s name is toto., my favorite food is m...                      \n",
      "979  [before i die , i want to skydive., i have a p...                      \n",
      "\n",
      "                                    previous_utterance               context  \\\n",
      "0    [Wow, I am never shy. Do you have anxiety?, Ye...   wizard_of_wikipedia   \n",
      "1    [My turtle ran away from me today., Oh my god....  empathetic_dialogues   \n",
      "2    [Our son in the Army is taking a leave to visi...  empathetic_dialogues   \n",
      "3    [that's awesome , i like running in the mornin...               convai2   \n",
      "4    [Are there different skill levels? , I do not ...   wizard_of_wikipedia   \n",
      "..                                                 ...                   ...   \n",
      "975  [Really, that is very interesting.Tell me more...   wizard_of_wikipedia   \n",
      "976  [I just found out I was accepted into medical ...  empathetic_dialogues   \n",
      "977  [What are the other primary colors?, I believe...   wizard_of_wikipedia   \n",
      "978  [I can't face my wife, I had a child out of my...  empathetic_dialogues   \n",
      "979  [I must admit that I have not been a very good...  empathetic_dialogues   \n",
      "\n",
      "                                         free_messages  \\\n",
      "0    [and why is that?, interesting but I know how ...   \n",
      "1    [that's funny. No. I let him roam around the h...   \n",
      "2    [Can't believe he grew up so quick, What do yo...   \n",
      "3    [Canning is great for storing food. Sometimes ...   \n",
      "4    [How would I start rock climbing?, I will do t...   \n",
      "..                                                 ...   \n",
      "975  [I have. I believe Ive learn those in college,...   \n",
      "976  [Since I got accepted I really want to quit my...   \n",
      "977  [Blue is my favorite color. It's calming. , My...   \n",
      "978  [various reasons, mentally i wasnt in a good p...   \n",
      "979  [I spend too much time away from home., Well, ...   \n",
      "\n",
      "                                       guided_messages  \\\n",
      "0    [I think it's because in my head, I think ever...   \n",
      "1    [What does your turtle eat?  Is it hard to tak...   \n",
      "2    [Yeah, kids grow up so quickly , We will proba...   \n",
      "3    [Wow, you've done a marathon?  I run a bit, bu...   \n",
      "4    [I would suggest a fitness place with a rock w...   \n",
      "..                                                 ...   \n",
      "975  [Its a concept that can venture many ways. How...   \n",
      "976  [Indeed, if i could have it my way I would enj...   \n",
      "977  [I believe it is. I painted my daughters room ...   \n",
      "978  [Wow with a kid involved that's a big no no! I...   \n",
      "979  [Accepting that your shortcomings as a father ...   \n",
      "\n",
      "                                           suggestions  \\\n",
      "0    {'convai2': ['i've no idea i am also very shy'...   \n",
      "1    {'convai2': ['no . i wanted to punch him more ...   \n",
      "2    {'convai2': ['i'm sure you and your husband ar...   \n",
      "3    {'convai2': ['yeah , that is a great food befo...   \n",
      "4    {'convai2': ['ha . well maybe you could start ...   \n",
      "..                                                 ...   \n",
      "975  {'convai2': ['i've not maybe i should !', 'act...   \n",
      "976  {'convai2': ['it is good to be a doctor in add...   \n",
      "977  {'convai2': ['rain is calming to the soul .', ...   \n",
      "978  {'convai2': ['oh that is terrible ! i am so so...   \n",
      "979  {'convai2': ['why do you feel that way', 'why ...   \n",
      "\n",
      "                             guided_chosen_suggestions  \\\n",
      "0                            [wizard_of_wikipedia, , ]   \n",
      "1                                         [, , , , , ]   \n",
      "2                     [empathetic_dialogues, , , , , ]   \n",
      "3                                         [, , , , , ]   \n",
      "4                                         [, , , , , ]   \n",
      "..                                                 ...   \n",
      "975                                       [, , , , , ]   \n",
      "976  [, , empathetic_dialogues, , , empathetic_dial...   \n",
      "977     [, empathetic_dialogues, , convai2, , convai2]   \n",
      "978  [empathetic_dialogues, empathetic_dialogues, e...   \n",
      "979                   [, , , , , empathetic_dialogues]   \n",
      "\n",
      "                                      label_candidates  \n",
      "0    [[Oh nice! My brother in law is a lawyer and I...  \n",
      "1    [[I really can't imagine... does she do the ea...  \n",
      "2    [[It was an accident, actually. I'm a big fant...  \n",
      "3    [[well, what if Eminem plays video games?  not...  \n",
      "4    [[Haha yeah.  I'm not sure why people don't ex...  \n",
      "..                                                 ...  \n",
      "975  [[Me either. What is your favorite genre of mo...  \n",
      "976  [[Are you in a relationship?  Are you in the a...  \n",
      "977  [[That's so sad! I'm sorry it happened. What d...  \n",
      "978  [[Well, the library is a good place to start. ...  \n",
      "979  [[So sorry to hear. They are laying in green p...  \n",
      "\n",
      "[980 rows x 9 columns]\n"
     ]
    }
   ],
   "source": [
    "df = pd.read_parquet('trainingFile/test-00000-of-00001.parquet')\n",
    "print(df)"
   ]
  },
  {
   "cell_type": "code",
   "execution_count": 11,
   "metadata": {},
   "outputs": [],
   "source": [
    "def read_parquet_as_dict(parquet_path):\n",
    "    try:\n",
    "        # Read parquet file into pandas DataFrame\n",
    "        df = pd.read_parquet(parquet_path)\n",
    "        \n",
    "        # Convert DataFrame to dictionary\n",
    "        # Method 1: Records format (list of dictionaries)\n",
    "        dict_records = df.to_dict('records')\n",
    "        \n",
    "        # Method 2: Dictionary of columns\n",
    "        dict_columns = df.to_dict()\n",
    "        \n",
    "        return {\n",
    "            'records': dict_records,  # Each row is a dictionary\n",
    "            'columns': dict_columns   # Each column is a dictionary\n",
    "        }\n",
    "    \n",
    "    except Exception as e:\n",
    "        print(f\"Error reading parquet file: {str(e)}\")\n",
    "        return None\n"
   ]
  },
  {
   "cell_type": "code",
   "execution_count": null,
   "metadata": {},
   "outputs": [],
   "source": []
  }
 ],
 "metadata": {
  "kernelspec": {
   "display_name": "Python 3",
   "language": "python",
   "name": "python3"
  },
  "language_info": {
   "codemirror_mode": {
    "name": "ipython",
    "version": 3
   },
   "file_extension": ".py",
   "mimetype": "text/x-python",
   "name": "python",
   "nbconvert_exporter": "python",
   "pygments_lexer": "ipython3",
   "version": "3.12.6"
  }
 },
 "nbformat": 4,
 "nbformat_minor": 2
}
